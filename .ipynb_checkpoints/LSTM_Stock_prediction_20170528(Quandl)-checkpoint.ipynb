{
 "cells": [
  {
   "cell_type": "markdown",
   "metadata": {},
   "source": [
    "# Part 1.  A guide for how to use the lstmstock.py\n",
    "\n",
    "This is a presentation of the simplest way to implement Long Short Term Memory for prediction of stock price. More codes are in the lstmstock.py file. It also fixed the problem of using pandas datareader to download stock data, which is currently unavailable."
   ]
  },
  {
   "cell_type": "markdown",
   "metadata": {},
   "source": [
    "# 1. Import all the module and function\n",
    "You can import all module one by one or import my lstmstock.py"
   ]
  },
  {
   "cell_type": "code",
   "execution_count": 1,
   "metadata": {
    "scrolled": true
   },
   "outputs": [
    {
     "name": "stderr",
     "output_type": "stream",
     "text": [
      "Using TensorFlow backend.\n"
     ]
    }
   ],
   "source": [
    "# from lstmstock import *\n",
    "import seaborn as sns\n",
    "import numpy as np\n",
    "import matplotlib.pyplot as plt\n",
    "import matplotlib.pyplot as plt2\n",
    "import pandas as pd\n",
    "from pandas import datetime\n",
    "import math, time\n",
    "import itertools\n",
    "from sklearn import preprocessing\n",
    "import datetime\n",
    "from sklearn.metrics import mean_squared_error\n",
    "from math import sqrt\n",
    "from keras.models import Sequential\n",
    "from keras.layers.core import Dense, Dropout, Activation\n",
    "from keras.layers.recurrent import LSTM\n",
    "from keras.models import load_model\n",
    "import keras\n",
    "import pandas_datareader.data as web\n",
    "import h5py\n",
    "from keras import backend as K\n",
    "import quandl\n",
    "from keras.models import load_model"
   ]
  },
  {
   "cell_type": "markdown",
   "metadata": {
    "collapsed": true
   },
   "source": [
    "# 2. Input of the model\n",
    "\n",
    "1. Quandl api key Obtained from https://www.quandl.com/product/WIKIP/WIKI/PRICES-Quandl-End-Of-Day-Stocks-Info Please login to use your key if you have one.\n",
    "\n",
    "2. Seq_len\n",
    "It is the window frame of the past data, how many days of past data would you like to be included in this model?\n",
    "\n",
    "3. Shape\n",
    "Please input the [seq_len, Amount of features, 1] to it to setup the model\n",
    "The amount of features will depend on how many moving average would you like to be included in this model.\n",
    "\n",
    "4. Dropout\n",
    "Fraction of the input units to drop. It helps to avoid overfitting.\n",
    "\n",
    "5. Decay\n",
    "Weight regularization. Another parameter to avoid overfitting.\n",
    "\n",
    "6. Epochs\n",
    "How many Epochs would you want to fit the model?"
   ]
  },
  {
   "cell_type": "code",
   "execution_count": 2,
   "metadata": {
    "collapsed": true
   },
   "outputs": [],
   "source": [
    "quandl.ApiConfig.api_key = 'zpFWg7jpwtBPmzA8sT2Z'\n",
    "seq_len = 22\n",
    "shape = [seq_len, 9, 1]\n",
    "neurons = [256, 256, 32, 1]\n",
    "dropout = 0.3\n",
    "decay = 0.5\n",
    "epochs = 3\n",
    "modelFileName = 'model-e' + str(epochs) + '.h5'\n",
    "stock_name = 'FLWS'"
   ]
  },
  {
   "cell_type": "markdown",
   "metadata": {},
   "source": [
    "# 3. Pull the data from Quandl first\n",
    "\n",
    "If you would like to include moving average, simply put the number of days into a list. \n",
    "They will be included into the neural network model.\n",
    "\n",
    "ie. putting 50days, 100days, 200days into [50, 100, 200]\n",
    "\n",
    "In the Quandl database, Open, High, Low, Close, Volume are all adjusted. "
   ]
  },
  {
   "cell_type": "code",
   "execution_count": 3,
   "metadata": {
    "collapsed": true
   },
   "outputs": [],
   "source": [
    "def get_stock_data(stock_name, normalize=True, ma=[]):\n",
    "    \"\"\"\n",
    "    Return a dataframe of that stock and normalize all the values. \n",
    "    (Optional: create moving average)\n",
    "    \"\"\"\n",
    "    df = quandl.get_table('WIKI/PRICES', ticker = stock_name)\n",
    "    df.drop(['ticker', 'open', 'high', 'low', 'close', 'ex-dividend', 'volume', 'split_ratio'], 1, inplace=True)\n",
    "    df.set_index('date', inplace=True)\n",
    "    \n",
    "    # Renaming all the columns so that we can use the old version code\n",
    "    df.rename(columns={'adj_open': 'Open', 'adj_high': 'High', 'adj_low': 'Low', 'adj_volume': 'Volume', 'adj_close': 'Adj Close'}, inplace=True)\n",
    "    \n",
    "    # Percentage change\n",
    "    df['Pct'] = df['Adj Close'].pct_change()\n",
    "    df.dropna(inplace=True)\n",
    "    \n",
    "    # Moving Average    \n",
    "    if ma != []:\n",
    "        for moving in ma:\n",
    "            df['{}ma'.format(moving)] = df['Adj Close'].rolling(window=moving).mean()\n",
    "    df.dropna(inplace=True)\n",
    "    \n",
    "    if normalize:\n",
    "        min_max_scaler = preprocessing.MinMaxScaler()\n",
    "        df['Open'] = min_max_scaler.fit_transform(df.Open.values.reshape(-1,1))\n",
    "        df['High'] = min_max_scaler.fit_transform(df.High.values.reshape(-1,1))\n",
    "        df['Low'] = min_max_scaler.fit_transform(df.Low.values.reshape(-1,1))\n",
    "        df['Volume'] = min_max_scaler.fit_transform(df.Volume.values.reshape(-1,1))\n",
    "        df['Adj Close'] = min_max_scaler.fit_transform(df['Adj Close'].values.reshape(-1,1))\n",
    "        df['Pct'] = min_max_scaler.fit_transform(df['Pct'].values.reshape(-1,1))\n",
    "        if ma != []:\n",
    "            for moving in ma:\n",
    "                df['{}ma'.format(moving)] = min_max_scaler.fit_transform(df['{}ma'.format(moving)].values.reshape(-1,1))  \n",
    "                \n",
    "    # Move Adj Close to the rightmost for the ease of training\n",
    "    adj_close = df['Adj Close']\n",
    "    df.drop(labels=['Adj Close'], axis=1, inplace=True)\n",
    "    df = pd.concat([df, adj_close], axis=1)\n",
    "      \n",
    "    return df"
   ]
  },
  {
   "cell_type": "code",
   "execution_count": 4,
   "metadata": {
    "collapsed": true
   },
   "outputs": [],
   "source": [
    "df = get_stock_data(stock_name, ma=[50, 100, 200])"
   ]
  },
  {
   "cell_type": "markdown",
   "metadata": {},
   "source": [
    "# 4. Visualize the data\n",
    "Print out the first 5 rows of the dataframe and plot out the Adjusted Close price and percentage change of that particular stock "
   ]
  },
  {
   "cell_type": "code",
   "execution_count": 5,
   "metadata": {
    "collapsed": true
   },
   "outputs": [],
   "source": [
    "def plot_stock(df):\n",
    "    print(df.head())\n",
    "    plt.subplot(211)\n",
    "    plt.plot(df['Adj Close'], color='red', label='Adj Close')\n",
    "    plt.legend(loc='best')\n",
    "    plt.subplot(212)\n",
    "    plt.plot(df['Pct'], color='blue', label='Percentage change')\n",
    "    plt.legend(loc='best')\n",
    "    plt.show()"
   ]
  },
  {
   "cell_type": "code",
   "execution_count": 6,
   "metadata": {},
   "outputs": [
    {
     "name": "stdout",
     "output_type": "stream",
     "text": [
      "                Open      High       Low    Volume       Pct      50ma  \\\n",
      "date                                                                     \n",
      "2000-05-17  0.373887  0.360843  0.375802  0.031033  0.363142  0.381950   \n",
      "2000-05-18  0.364629  0.353313  0.375802  0.025009  0.389492  0.381254   \n",
      "2000-05-19  0.355371  0.345783  0.375802  0.035487  0.389590  0.380957   \n",
      "2000-05-22  0.357211  0.360843  0.375802  0.027419  0.445512  0.381106   \n",
      "2000-05-23  0.357211  0.345783  0.371914  0.058014  0.376025  0.380709   \n",
      "\n",
      "               100ma     200ma  Adj Close  \n",
      "date                                       \n",
      "2000-05-17  0.558310  0.885206   0.373895  \n",
      "2000-05-18  0.554386  0.880531   0.370079  \n",
      "2000-05-19  0.551045  0.876294   0.366323  \n",
      "2000-05-22  0.547599  0.871677   0.377650  \n",
      "2000-05-23  0.544370  0.867469   0.370079  \n"
     ]
    },
    {
     "data": {
      "image/png": "[encoded data removed]",
      "text/plain": [
       "<matplotlib.figure.Figure at 0x1157a2240>"
      ]
     },
     "metadata": {},
     "output_type": "display_data"
    }
   ],
   "source": [
    "plot_stock(df)"
   ]
  },
  {
   "cell_type": "markdown",
   "metadata": {},
   "source": [
    "# 5. To see the correlation for each variables\n",
    "Not so ideal but more fundamental data will be included in the future"
   ]
  },
  {
   "cell_type": "code",
   "execution_count": 7,
   "metadata": {},
   "outputs": [
    {
     "data": {
      "image/png": "[encoded data removed]",
      "text/plain": [
       "<matplotlib.figure.Figure at 0x116af97b8>"
      ]
     },
     "metadata": {},
     "output_type": "display_data"
    }
   ],
   "source": [
    "corr = df.corr()\n",
    "ax = sns.heatmap(corr, cmap=\"YlGnBu\")\n",
    "plt.show()"
   ]
  },
  {
   "cell_type": "markdown",
   "metadata": {},
   "source": [
    "# 6. Split out training set and testing set data"
   ]
  },
  {
   "cell_type": "code",
   "execution_count": 8,
   "metadata": {
    "collapsed": true
   },
   "outputs": [],
   "source": [
    "def load_data(stock, seq_len):\n",
    "    amount_of_features = len(stock.columns)\n",
    "    data = stock.as_matrix() \n",
    "    sequence_length = seq_len + 1 # index starting from 0\n",
    "    result = []\n",
    "    \n",
    "    for index in range(len(data) - sequence_length): # maxmimum date = lastest date - sequence length\n",
    "        result.append(data[index: index + sequence_length]) # index : index + 22days\n",
    "    \n",
    "    result = np.array(result)\n",
    "    row = round(0.9 * result.shape[0]) # 90% split\n",
    "    \n",
    "    train = result[:int(row), :] # 90% date\n",
    "    \n",
    "    pRow = round(0.80 * train.shape[0])\n",
    "    pTrain =  result[:int(pRow), :]\n",
    "    left_X_train = pTrain[:, :-1] # all data until day m\n",
    "    left_y_train = pTrain[:, -1][:,-1] # day m + 1 adjusted close price\n",
    "    right_X_test = train[int(pRow):, :-1]\n",
    "    right_y_test = train[int(pRow):, -1][:,-1] \n",
    "    \n",
    "    X_train = train[:, :-1] # all data until day m\n",
    "    y_train = train[:, -1][:,-1] # day m + 1 adjusted close price\n",
    "    \n",
    "    X_test = result[int(row):, :-1]\n",
    "    y_test = result[int(row):, -1][:,-1] \n",
    "\n",
    "    X_train = np.reshape(X_train, (X_train.shape[0], X_train.shape[1], amount_of_features))\n",
    "    X_test = np.reshape(X_test, (X_test.shape[0], X_test.shape[1], amount_of_features))  \n",
    "\n",
    "    print(\"left_X_train: \" + str(len(left_X_train)))\n",
    "    print(\"right_X_test: \" + str(len(right_X_test)))\n",
    "    return [left_X_train, left_y_train, right_X_test, right_y_test]"
   ]
  },
  {
   "cell_type": "code",
   "execution_count": 9,
   "metadata": {},
   "outputs": [
    {
     "name": "stdout",
     "output_type": "stream",
     "text": [
      "left_X_train: 3815\n",
      "right_X_test: 78\n"
     ]
    }
   ],
   "source": [
    "X_train, y_train, X_test, y_test = load_data(df, seq_len)"
   ]
  },
  {
   "cell_type": "markdown",
   "metadata": {},
   "source": [
    "# 7. Model Execution"
   ]
  },
  {
   "cell_type": "code",
   "execution_count": 10,
   "metadata": {
    "collapsed": true
   },
   "outputs": [],
   "source": [
    "def build_model(shape, neurons, dropout, decay):\n",
    "    model = None\n",
    "    try:\n",
    "        model = load_model(modelFileName)\n",
    "    except:\n",
    "        print(modelFileName + ' not found')\n",
    "        \n",
    "    if model != None:\n",
    "        return [model, True]\n",
    "    model = Sequential()\n",
    "\n",
    "    model.add(LSTM(neurons[0], input_shape=(shape[0], shape[1]), return_sequences=True))\n",
    "    model.add(Dropout(dropout))\n",
    "\n",
    "    model.add(LSTM(neurons[1], input_shape=(shape[0], shape[1]), return_sequences=False))\n",
    "    model.add(Dropout(dropout))\n",
    "\n",
    "    model.add(Dense(neurons[2],kernel_initializer=\"uniform\",activation='relu'))\n",
    "    model.add(Dense(neurons[3],kernel_initializer=\"uniform\",activation='linear'))\n",
    "    # model = load_model('my_LSTM_stock_model1000.h5')\n",
    "    adam = keras.optimizers.Adam(decay=decay)\n",
    "    model.compile(loss='mse',optimizer='adam', metrics=['accuracy'])\n",
    "    model.summary()\n",
    "    return [model, False]"
   ]
  },
  {
   "cell_type": "code",
   "execution_count": 11,
   "metadata": {},
   "outputs": [
    {
     "name": "stdout",
     "output_type": "stream",
     "text": [
      "learned: True\n"
     ]
    }
   ],
   "source": [
    "model, learned = build_model(shape, neurons, dropout, decay)\n",
    "print('learned: ' + str(learned))"
   ]
  },
  {
   "cell_type": "code",
   "execution_count": 12,
   "metadata": {},
   "outputs": [],
   "source": [
    "if learned == False:\n",
    "    model.fit(\n",
    "        X_train,\n",
    "        y_train,\n",
    "        batch_size=512,\n",
    "        epochs=epochs,\n",
    "        validation_split=0.2,\n",
    "        verbose=1)\n",
    "    model.save(modelFileName)"
   ]
  },
  {
   "cell_type": "markdown",
   "metadata": {},
   "source": [
    "# 8. Result on training set and testing set"
   ]
  },
  {
   "cell_type": "code",
   "execution_count": 13,
   "metadata": {
    "collapsed": true
   },
   "outputs": [],
   "source": [
    "def model_score(model, X_train, y_train, X_test, y_test):\n",
    "    trainScore = model.evaluate(X_train, y_train, verbose=0)\n",
    "    print('Train Score: %.5f MSE (%.2f RMSE)' % (trainScore[0], math.sqrt(trainScore[0])))\n",
    "\n",
    "    testScore = model.evaluate(X_test, y_test, verbose=0)\n",
    "    print('Test Score: %.5f MSE (%.2f RMSE)' % (testScore[0], math.sqrt(testScore[0])))\n",
    "    return trainScore[0], testScore[0]"
   ]
  },
  {
   "cell_type": "code",
   "execution_count": 14,
   "metadata": {},
   "outputs": [
    {
     "name": "stdout",
     "output_type": "stream",
     "text": [
      "Train Score: 0.01370 MSE (0.12 RMSE)\n",
      "Test Score: 0.00588 MSE (0.08 RMSE)\n"
     ]
    },
    {
     "data": {
      "text/plain": [
       "(0.013695530943343047, 0.0058765908559927577)"
      ]
     },
     "execution_count": 14,
     "metadata": {},
     "output_type": "execute_result"
    }
   ],
   "source": [
    "model_score(model, X_train, y_train, X_test, y_test)"
   ]
  },
  {
   "cell_type": "markdown",
   "metadata": {},
   "source": [
    "# 9. Prediction vs Real results"
   ]
  },
  {
   "cell_type": "code",
   "execution_count": 15,
   "metadata": {
    "collapsed": true
   },
   "outputs": [],
   "source": [
    "def percentage_difference(model, X_test, y_test):\n",
    "    percentage_diff=[]\n",
    "\n",
    "    p = model.predict(X_test)\n",
    "    for u in range(len(y_test)): # for each data index in test data\n",
    "        pr = p[u][0] # pr = prediction on day u\n",
    "\n",
    "        percentage_diff.append((pr-y_test[u]/pr)*100)\n",
    "    return p"
   ]
  },
  {
   "cell_type": "code",
   "execution_count": null,
   "metadata": {
    "collapsed": true
   },
   "outputs": [],
   "source": []
  },
  {
   "cell_type": "code",
   "execution_count": 16,
   "metadata": {
    "collapsed": true
   },
   "outputs": [],
   "source": [
    "def denormalize(stock_name, normalized_value):\n",
    "    \"\"\"\n",
    "    Return a dataframe of that stock and normalize all the values. \n",
    "    (Optional: create moving average)\n",
    "    \"\"\"\n",
    "    df = quandl.get_table('WIKI/PRICES', ticker = stock_name)\n",
    "    df.drop(['ticker', 'open', 'high', 'low', 'close', 'ex-dividend', 'volume', 'split_ratio'], 1, inplace=True)\n",
    "    df.set_index('date', inplace=True)\n",
    "    \n",
    "    # Renaming all the columns so that we can use the old version code\n",
    "    df.rename(columns={'adj_open': 'Open', 'adj_high': 'High', 'adj_low': 'Low', 'adj_volume': 'Volume', 'adj_close': 'Adj Close'}, inplace=True)\n",
    "    \n",
    "    df.dropna(inplace=True)\n",
    "    df = df['Adj Close'].values.reshape(-1,1)\n",
    "    normalized_value = normalized_value.reshape(-1,1)\n",
    "\n",
    "    #return df.shape, p.shape\n",
    "    min_max_scaler = preprocessing.MinMaxScaler()\n",
    "    a = min_max_scaler.fit_transform(df)\n",
    "    new = min_max_scaler.inverse_transform(normalized_value)\n",
    "      \n",
    "    return new"
   ]
  },
  {
   "cell_type": "code",
   "execution_count": 17,
   "metadata": {
    "collapsed": true
   },
   "outputs": [],
   "source": [
    "def plot_result(stock_name, normalized_value_p, normalized_value_y_test):\n",
    "    newp = denormalize(stock_name, normalized_value_p)\n",
    "    print(newp)\n",
    "    print(normalized_value_p)\n",
    "    newy_test = denormalize(stock_name, normalized_value_y_test)\n",
    "    plt2.plot(newp, color='red', label='Prediction')\n",
    "    plt2.plot(newy_test,color='blue', label='Actual')\n",
    "    plt2.legend(loc='best')\n",
    "    plt2.title('The test result for {}'.format(stock_name))\n",
    "    plt2.xlabel('Days')\n",
    "    plt2.ylabel('Adjusted Close')\n",
    "    plt2.show()"
   ]
  },
  {
   "cell_type": "code",
   "execution_count": null,
   "metadata": {
    "collapsed": true
   },
   "outputs": [],
   "source": []
  },
  {
   "cell_type": "code",
   "execution_count": 18,
   "metadata": {
    "collapsed": true
   },
   "outputs": [],
   "source": [
    "p = percentage_difference(model, X_test, y_test)"
   ]
  },
  {
   "cell_type": "code",
   "execution_count": 19,
   "metadata": {
    "scrolled": true
   },
   "outputs": [
    {
     "name": "stdout",
     "output_type": "stream",
     "text": [
      "[[ 11.75020123]\n",
      " [ 11.7448082 ]\n",
      " [ 11.73884583]\n",
      " [ 11.73244762]\n",
      " [ 11.72429371]\n",
      " [ 11.7195158 ]\n",
      " [ 11.71671677]\n",
      " [ 11.71025658]\n",
      " [ 11.70328903]\n",
      " [ 11.69487762]\n",
      " [ 11.68535995]\n",
      " [ 11.67742348]\n",
      " [ 11.67038059]\n",
      " [ 11.66309166]\n",
      " [ 11.65524197]\n",
      " [ 11.64728355]\n",
      " [ 11.63956451]\n",
      " [ 11.6314249 ]\n",
      " [ 11.62438774]\n",
      " [ 11.61824131]\n",
      " [ 11.61137009]\n",
      " [ 11.60336113]\n",
      " [ 11.59520149]\n",
      " [ 11.58693123]\n",
      " [ 11.57835197]\n",
      " [ 11.57113075]\n",
      " [ 11.56613731]\n",
      " [ 11.55977249]\n",
      " [ 11.5531683 ]\n",
      " [ 11.5493288 ]\n",
      " [ 11.54937744]\n",
      " [ 11.54841137]\n",
      " [ 11.55208874]\n",
      " [ 11.55812645]\n",
      " [ 11.56380653]\n",
      " [ 11.56851101]\n",
      " [ 11.57501698]\n",
      " [ 11.58253765]\n",
      " [ 11.58929062]\n",
      " [ 11.59556675]\n",
      " [ 11.60132313]\n",
      " [ 11.60658169]\n",
      " [ 11.61260319]\n",
      " [ 11.61889172]\n",
      " [ 11.62510777]\n",
      " [ 11.62929916]\n",
      " [ 11.63497353]\n",
      " [ 11.6411438 ]\n",
      " [ 11.64697838]\n",
      " [ 11.65147305]\n",
      " [ 11.65709591]\n",
      " [ 11.66260719]\n",
      " [ 11.66678715]\n",
      " [ 11.67191315]\n",
      " [ 11.67612076]\n",
      " [ 11.67617702]\n",
      " [ 11.67431259]\n",
      " [ 11.67344952]\n",
      " [ 11.67190361]\n",
      " [ 11.6678257 ]\n",
      " [ 11.6631012 ]\n",
      " [ 11.65728664]\n",
      " [ 11.64970589]\n",
      " [ 11.64013577]\n",
      " [ 11.62753773]\n",
      " [ 11.61305714]\n",
      " [ 11.59784412]\n",
      " [ 11.58448601]\n",
      " [ 11.57176781]\n",
      " [ 11.5577116 ]\n",
      " [ 11.54334068]\n",
      " [ 11.52860069]\n",
      " [ 11.51348495]\n",
      " [ 11.49638271]\n",
      " [ 11.47939014]\n",
      " [ 11.462883  ]\n",
      " [ 11.44560814]\n",
      " [ 11.43001938]]\n",
      "[[ 0.54683793]\n",
      " [ 0.54656637]\n",
      " [ 0.54626614]\n",
      " [ 0.54594398]\n",
      " [ 0.54553342]\n",
      " [ 0.54529285]\n",
      " [ 0.54515189]\n",
      " [ 0.54482663]\n",
      " [ 0.54447579]\n",
      " [ 0.54405224]\n",
      " [ 0.54357302]\n",
      " [ 0.54317337]\n",
      " [ 0.54281878]\n",
      " [ 0.54245174]\n",
      " [ 0.5420565 ]\n",
      " [ 0.54165578]\n",
      " [ 0.5412671 ]\n",
      " [ 0.54085726]\n",
      " [ 0.54050291]\n",
      " [ 0.54019344]\n",
      " [ 0.53984743]\n",
      " [ 0.53944415]\n",
      " [ 0.53903329]\n",
      " [ 0.5386169 ]\n",
      " [ 0.53818488]\n",
      " [ 0.53782129]\n",
      " [ 0.53756988]\n",
      " [ 0.53724939]\n",
      " [ 0.53691685]\n",
      " [ 0.53672349]\n",
      " [ 0.53672594]\n",
      " [ 0.5366773 ]\n",
      " [ 0.53686249]\n",
      " [ 0.53716648]\n",
      " [ 0.53745252]\n",
      " [ 0.53768939]\n",
      " [ 0.53801697]\n",
      " [ 0.53839564]\n",
      " [ 0.53873569]\n",
      " [ 0.53905171]\n",
      " [ 0.53934157]\n",
      " [ 0.53960633]\n",
      " [ 0.53990954]\n",
      " [ 0.54022616]\n",
      " [ 0.54053915]\n",
      " [ 0.54075021]\n",
      " [ 0.54103595]\n",
      " [ 0.54134661]\n",
      " [ 0.5416404 ]\n",
      " [ 0.54186672]\n",
      " [ 0.54214984]\n",
      " [ 0.54242736]\n",
      " [ 0.54263783]\n",
      " [ 0.54289591]\n",
      " [ 0.54310781]\n",
      " [ 0.54311061]\n",
      " [ 0.54301673]\n",
      " [ 0.54297328]\n",
      " [ 0.54289544]\n",
      " [ 0.5426901 ]\n",
      " [ 0.54245222]\n",
      " [ 0.54215944]\n",
      " [ 0.54177773]\n",
      " [ 0.54129589]\n",
      " [ 0.54066151]\n",
      " [ 0.53993237]\n",
      " [ 0.53916639]\n",
      " [ 0.53849375]\n",
      " [ 0.53785336]\n",
      " [ 0.53714561]\n",
      " [ 0.53642201]\n",
      " [ 0.53567982]\n",
      " [ 0.53491867]\n",
      " [ 0.53405756]\n",
      " [ 0.53320193]\n",
      " [ 0.53237075]\n",
      " [ 0.53150094]\n",
      " [ 0.530716  ]]\n"
     ]
    },
    {
     "data": {
      "image/png": "[encoded data removed]",
      "text/plain": [
       "<matplotlib.figure.Figure at 0x118af7eb8>"
      ]
     },
     "metadata": {},
     "output_type": "display_data"
    }
   ],
   "source": [
    "plot_result(stock_name, p, y_test)"
   ]
  },
  {
   "cell_type": "code",
   "execution_count": null,
   "metadata": {
    "collapsed": true
   },
   "outputs": [],
   "source": []
  },
  {
   "cell_type": "markdown",
   "metadata": {},
   "source": [
    "# Part 2. Finding the best hyperparameter"
   ]
  },
  {
   "cell_type": "code",
   "execution_count": 20,
   "metadata": {
    "collapsed": true
   },
   "outputs": [],
   "source": [
    "def quick_measure(stock_name, seq_len, dropout, shape, neurons, epochs, decay):\n",
    "    df = get_stock_data(stock_name)\n",
    "    X_train, y_train, X_test, y_test = load_data(df, seq_len)\n",
    "    model = build_model(shape, neurons, dropout, decay)\n",
    "    model.fit(X_train, y_train, batch_size=512, epochs=epochs, validation_split=0.2, verbose=0)\n",
    "    # model.save('LSTM_Stock_prediction-20170528.h5')\n",
    "    trainScore, testScore = model_score(model, X_train, y_train, X_test, y_test)\n",
    "    return trainScore, testScore"
   ]
  },
  {
   "cell_type": "code",
   "execution_count": 21,
   "metadata": {
    "collapsed": true
   },
   "outputs": [],
   "source": [
    "quandl.ApiConfig.api_key = 'zpFWg7jpwtBPmzA8sT2Z'\n",
    "seq_len = 22\n",
    "shape = [seq_len, 6, 1] # Without moving average, 6 features will be used\n",
    "neurons = [256, 256, 32, 1]\n",
    "dropout = 0.3\n",
    "decay = 0.5\n",
    "epochs = 80\n",
    "stock_name = 'AAPL'"
   ]
  },
  {
   "cell_type": "markdown",
   "metadata": {},
   "source": [
    "# 1. Testing for epochs\n",
    "Repeatedly test it and sum up the result"
   ]
  },
  {
   "cell_type": "code",
   "execution_count": 22,
   "metadata": {},
   "outputs": [
    {
     "ename": "NameError",
     "evalue": "name 'd' is not defined",
     "output_type": "error",
     "traceback": [
      "\u001b[0;31m---------------------------------------------------------------------------\u001b[0m",
      "\u001b[0;31mNameError\u001b[0m                                 Traceback (most recent call last)",
      "\u001b[0;32m<ipython-input-22-5585a7124caf>\u001b[0m in \u001b[0;36m<module>\u001b[0;34m()\u001b[0m\n\u001b[1;32m     10\u001b[0m \u001b[0;31m# while i < 5:\u001b[0m\u001b[0;34m\u001b[0m\u001b[0;34m\u001b[0m\u001b[0m\n\u001b[1;32m     11\u001b[0m \u001b[0;32mfor\u001b[0m \u001b[0mepochs\u001b[0m \u001b[0;32min\u001b[0m \u001b[0mepochslist\u001b[0m\u001b[0;34m:\u001b[0m\u001b[0;34m\u001b[0m\u001b[0m\n\u001b[0;32m---> 12\u001b[0;31m     \u001b[0mtrainScore\u001b[0m\u001b[0;34m,\u001b[0m \u001b[0mtestScore\u001b[0m \u001b[0;34m=\u001b[0m \u001b[0mquick_measure\u001b[0m\u001b[0;34m(\u001b[0m\u001b[0mstock_name\u001b[0m\u001b[0;34m,\u001b[0m \u001b[0mseq_len\u001b[0m\u001b[0;34m,\u001b[0m \u001b[0md\u001b[0m\u001b[0;34m,\u001b[0m \u001b[0mshape\u001b[0m\u001b[0;34m,\u001b[0m \u001b[0mneurons\u001b[0m\u001b[0;34m,\u001b[0m \u001b[0mepochs\u001b[0m\u001b[0;34m,\u001b[0m \u001b[0mdecay\u001b[0m\u001b[0;34m)\u001b[0m\u001b[0;34m\u001b[0m\u001b[0m\n\u001b[0m\u001b[1;32m     13\u001b[0m     \u001b[0mepochs_train_result\u001b[0m\u001b[0;34m[\u001b[0m\u001b[0mepochs\u001b[0m\u001b[0;34m]\u001b[0m \u001b[0;34m=\u001b[0m \u001b[0mtrainScore\u001b[0m\u001b[0;34m\u001b[0m\u001b[0m\n\u001b[1;32m     14\u001b[0m     \u001b[0mepochs_test_result\u001b[0m\u001b[0;34m[\u001b[0m\u001b[0mepochs\u001b[0m\u001b[0;34m]\u001b[0m \u001b[0;34m=\u001b[0m \u001b[0mtestScore\u001b[0m\u001b[0;34m\u001b[0m\u001b[0m\n",
      "\u001b[0;31mNameError\u001b[0m: name 'd' is not defined"
     ]
    }
   ],
   "source": [
    "epochslist = [40,50,60,70,80,90,100,110,120,130,140,150]\n",
    "epochs_train_result = {}\n",
    "epochs_test_result = {}\n",
    "#i=0\n",
    "\n",
    "#for epochs in epochslist:   \n",
    "#    epochs_train_result[epochs] = 0\n",
    "#    epochs_test_result[epochs] = 0\n",
    "\n",
    "# while i < 5:\n",
    "for epochs in epochslist:    \n",
    "    trainScore, testScore = quick_measure(stock_name, seq_len, d, shape, neurons, epochs, decay)\n",
    "    epochs_train_result[epochs] = trainScore\n",
    "    epochs_test_result[epochs] = testScore\n",
    "#    i+=1"
   ]
  },
  {
   "cell_type": "code",
   "execution_count": null,
   "metadata": {
    "collapsed": true
   },
   "outputs": [],
   "source": [
    "# epochs_train_result"
   ]
  },
  {
   "cell_type": "code",
   "execution_count": null,
   "metadata": {
    "collapsed": true
   },
   "outputs": [],
   "source": [
    "min_train_val = min(epochs_train_result.values())\n",
    "min_train_val_key = [k for k, v in epochs_train_result.items() if v == min_train_val]\n",
    "print (epochs_train_result)\n",
    "print (min_train_val_key)"
   ]
  },
  {
   "cell_type": "code",
   "execution_count": null,
   "metadata": {
    "collapsed": true
   },
   "outputs": [],
   "source": [
    "min_test_val = min(epochs_test_result.values())\n",
    "min_test_val_key = [k for k, v in epochs_test_result.items() if v == min_test_val]\n",
    "print (epochs_test_result)\n",
    "print (min_test_val_key)"
   ]
  },
  {
   "cell_type": "code",
   "execution_count": null,
   "metadata": {
    "collapsed": true
   },
   "outputs": [],
   "source": [
    "lists1 = sorted(epochs_test_result.items())\n",
    "x1,y1 = zip(*lists1)\n",
    "plt.plot(x1,y1)\n",
    "\n",
    "plt.title('Finding the best hyperparameter for testing')\n",
    "plt.xlabel('Dropout')\n",
    "plt.ylabel('Mean Square Error')\n",
    "plt.show()"
   ]
  },
  {
   "cell_type": "code",
   "execution_count": null,
   "metadata": {
    "collapsed": true
   },
   "outputs": [],
   "source": [
    "lists2 = sorted(epochs_train_result.items())\n",
    "x2,y2 = zip(*lists2)\n",
    "plt.plot(x2,y2)\n",
    "plt.title('Finding the best hyperparameter for training set')\n",
    "plt.xlabel('Dropout')\n",
    "plt.ylabel('Mean Square Error')\n",
    "plt.show()"
   ]
  },
  {
   "cell_type": "markdown",
   "metadata": {},
   "source": [
    "# 2. Testing for dropout"
   ]
  },
  {
   "cell_type": "code",
   "execution_count": null,
   "metadata": {
    "collapsed": true
   },
   "outputs": [],
   "source": [
    "dlist = [0.2, 0.3, 0.4, 0.5, 0.6, 0.7, 0.8]\n",
    "dropout_train_result = {}\n",
    "dropout_test_result = {}\n",
    "\n",
    "for d in dlist:    \n",
    "    trainScore, testScore = quick_measure(stock_name, seq_len, d, shape, neurons, epochs, decay)\n",
    "    dropout_train_result[d] = trainScore\n",
    "    dropout_test_result[d] = testScore"
   ]
  },
  {
   "cell_type": "code",
   "execution_count": null,
   "metadata": {
    "collapsed": true
   },
   "outputs": [],
   "source": [
    "min_train_val = min(dropout_train_result.values())\n",
    "min_train_val_key = [k for k, v in dropout_train_result.items() if v == min_train_val]\n",
    "print (dropout_train_result)\n",
    "print (min_train_val_key)"
   ]
  },
  {
   "cell_type": "code",
   "execution_count": null,
   "metadata": {
    "collapsed": true
   },
   "outputs": [],
   "source": [
    "min_test_val = min(dropout_test_result.values())\n",
    "min_test_val_key = [k for k, v in dropout_test_result.items() if v == min_test_val]\n",
    "print (dropout_test_result)\n",
    "print (min_test_val_key)"
   ]
  },
  {
   "cell_type": "code",
   "execution_count": null,
   "metadata": {
    "collapsed": true
   },
   "outputs": [],
   "source": [
    "lists1 = sorted(dropout_test_result.items())\n",
    "x1,y1 = zip(*lists1)\n",
    "plt.plot(x1,y1)\n",
    "plt.title('Finding the best hyperparameter for testing set')\n",
    "plt.xlabel('Dropout')\n",
    "plt.ylabel('Mean Square Error')\n",
    "plt.show()"
   ]
  },
  {
   "cell_type": "code",
   "execution_count": null,
   "metadata": {
    "collapsed": true
   },
   "outputs": [],
   "source": [
    "lists2 = sorted(dropout_train_result.items())\n",
    "x2,y2 = zip(*lists2)\n",
    "plt.plot(x2,y2)\n",
    "plt.title('Finding the best hyperparameter for training set')\n",
    "plt.xlabel('Dropout')\n",
    "plt.ylabel('Mean Square Error')\n",
    "plt.show()"
   ]
  },
  {
   "cell_type": "code",
   "execution_count": null,
   "metadata": {
    "collapsed": true
   },
   "outputs": [],
   "source": []
  }
 ],
 "metadata": {
  "kernelspec": {
   "display_name": "Python 3",
   "language": "python",
   "name": "python3"
  },
  "language_info": {
   "codemirror_mode": {
    "name": "ipython",
    "version": 3
   },
   "file_extension": ".py",
   "mimetype": "text/x-python",
   "name": "python",
   "nbconvert_exporter": "python",
   "pygments_lexer": "ipython3",
   "version": "3.6.2"
  }
 },
 "nbformat": 4,
 "nbformat_minor": 2
}
